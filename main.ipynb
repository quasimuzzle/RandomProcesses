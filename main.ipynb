{
 "cells": [
  {
   "cell_type": "markdown",
   "metadata": {},
   "source": [
    "\n",
    "# Генератор псевдо-случайных чисел (ГПСЧ)"
   ]
  },
  {
   "cell_type": "code",
   "execution_count": 1,
   "metadata": {},
   "outputs": [],
   "source": [
    "import random\n",
    "import math\n",
    "from scipy import stats \n"
   ]
  },
  {
   "cell_type": "markdown",
   "metadata": {},
   "source": [
    "### ГПСЧ формирующий последовательность равномерно распределённых на отрезке [0;1] чисел "
   ]
  },
  {
   "cell_type": "code",
   "execution_count": 2,
   "metadata": {},
   "outputs": [
    {
     "data": {
      "text/plain": [
       "True"
      ]
     },
     "execution_count": 2,
     "metadata": {},
     "output_type": "execute_result"
    }
   ],
   "source": [
    "def uniform(seed, n):   #линейно-конгуэнтный метод\n",
    "    a = 1664525\n",
    "    c = 1013904223\n",
    "    m = 2**32 #период \n",
    "    numbers = []\n",
    "    x = seed\n",
    "    for _ in range (n):\n",
    "        x = (a * x + c ) % m\n",
    "        numbers.append(x / m )\n",
    "    return numbers \n",
    "\n",
    "def kolmogorov_smirnov_test(data, distribution, alpha = 0.01):\n",
    "    statistic, p_value = stats.kstest(data, distribution)\n",
    "    return p_value > alpha \n",
    "\n",
    "sample_size = 1000\n",
    "data_1 = uniform( seed = 123, n = sample_size)\n",
    "is_data_good = kolmogorov_smirnov_test(data_1, 'uniform', alpha = 0.01)\n",
    "is_data_good \n"
   ]
  },
  {
   "cell_type": "markdown",
   "metadata": {},
   "source": [
    "### ГПСЧ формирующий последовательность экспоненциально распределённых чисел  с параметром λ>0 "
   ]
  },
  {
   "cell_type": "code",
   "execution_count": 3,
   "metadata": {},
   "outputs": [
    {
     "data": {
      "text/plain": [
       "True"
      ]
     },
     "execution_count": 3,
     "metadata": {},
     "output_type": "execute_result"
    }
   ],
   "source": [
    "def exponential(lambda_val, n):\n",
    "    numbers = []\n",
    "    for _ in range(n):          # метод обратной функции\n",
    "        u = random.random()\n",
    "        x = -1 / lambda_val * math.log(1 - u)\n",
    "        numbers.append(x)\n",
    "    return numbers \n",
    "\n",
    "def anderson_darling_test(data, distribution):\n",
    "    result = stats.anderson(data, dist = distribution)\n",
    "    return result.statistic < result.critical_values[2]\n",
    "\n",
    "sample_size = 1000\n",
    "lambda_val = 0.5\n",
    "data_2 = exponential(lambda_val, sample_size )\n",
    "is_data2_good = anderson_darling_test(data_2, 'expon')\n",
    "is_data2_good\n",
    "    "
   ]
  },
  {
   "cell_type": "markdown",
   "metadata": {},
   "source": [
    "### ГПСЧ формирующий послдовательность нормально распределённых чисел с параметрами (0, 1)"
   ]
  },
  {
   "cell_type": "code",
   "execution_count": 4,
   "metadata": {},
   "outputs": [
    {
     "data": {
      "text/plain": [
       "True"
      ]
     },
     "execution_count": 4,
     "metadata": {},
     "output_type": "execute_result"
    }
   ],
   "source": [
    "def normal(n):\n",
    "    numbers = []\n",
    "    for _ in range(n):\n",
    "        u1, u2 = random.random(), random.random()           # преобразования Бокса-Мюллера \n",
    "        z1 = math.sqrt(-2 * math.log(u1)) * math.cos(2 * math.pi * u2)\n",
    "        z2 = math.sqrt(-2 * math.log(u1)) * math.sin(2 * math.pi * u2)\n",
    "        numbers.extend([z1, z2])\n",
    "    return numbers\n",
    "\n",
    "\n",
    "def kolmogorov_smirnov_test(data, distribution, alpha = 0.01):\n",
    "    statistic, p_value = stats.kstest(data, distribution)\n",
    "    return p_value > alpha \n",
    "\n",
    "sample_size = 1000\n",
    "data_3 = normal(sample_size)\n",
    "is_data3_good = kolmogorov_smirnov_test(data_3, 'norm', alpha = 0.01)\n",
    "is_data3_good"
   ]
  },
  {
   "cell_type": "markdown",
   "metadata": {},
   "source": [
    "\n",
    "# Построение моделей основных случайных процессов"
   ]
  },
  {
   "cell_type": "code",
   "execution_count": null,
   "metadata": {},
   "outputs": [],
   "source": []
  }
 ],
 "metadata": {
  "kernelspec": {
   "display_name": "Python 3",
   "language": "python",
   "name": "python3"
  },
  "language_info": {
   "codemirror_mode": {
    "name": "ipython",
    "version": 3
   },
   "file_extension": ".py",
   "mimetype": "text/x-python",
   "name": "python",
   "nbconvert_exporter": "python",
   "pygments_lexer": "ipython3",
   "version": "3.10.12"
  }
 },
 "nbformat": 4,
 "nbformat_minor": 2
}
